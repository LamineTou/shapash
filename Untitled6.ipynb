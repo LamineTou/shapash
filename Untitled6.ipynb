{
 "cells": [
  {
   "cell_type": "code",
   "execution_count": 1,
   "metadata": {},
   "outputs": [
    {
     "data": {
      "text/plain": [
       "'3.1'"
      ]
     },
     "execution_count": 1,
     "metadata": {},
     "output_type": "execute_result"
    }
   ],
   "source": [
    "import sys\n",
    "sys.version[0:3]"
   ]
  },
  {
   "cell_type": "code",
   "execution_count": 1,
   "metadata": {},
   "outputs": [
    {
     "name": "stderr",
     "output_type": "stream",
     "text": [
      "/data_tech/users/users_envs/78257d/shapash_test_310/lib/python3.10/site-packages/xgboost/compat.py:85: FutureWarning: pandas.Int64Index is deprecated and will be removed from pandas in a future version. Use pandas.Index with the appropriate dtype instead.\n",
      "  from pandas import MultiIndex, Int64Index\n",
      "/data_tech/users/users_envs/78257d/shapash_test_310/lib/python3.10/site-packages/tqdm/auto.py:22: TqdmWarning: IProgress not found. Please update jupyter and ipywidgets. See https://ipywidgets.readthedocs.io/en/stable/user_install.html\n",
      "  from .autonotebook import tqdm as notebook_tqdm\n"
     ]
    }
   ],
   "source": [
    "import unittest\n",
    "import pandas as pd\n",
    "import numpy as np\n",
    "import category_encoders as ce\n",
    "from sklearn.compose import ColumnTransformer\n",
    "import sklearn.preprocessing as skp\n",
    "import catboost as cb\n",
    "import sklearn\n",
    "import lightgbm\n",
    "import xgboost\n",
    "from shapash.utils.transform import inverse_transform\n",
    "from shapash.utils.transform import apply_preprocessing\n",
    "from shapash.utils.columntransformer_backend import get_feature_names, get_names, get_list_features_names, \\\n",
    "        get_col_mapping_ct\n",
    "from sklearn.ensemble import GradientBoostingClassifier"
   ]
  },
  {
   "cell_type": "code",
   "execution_count": 8,
   "metadata": {},
   "outputs": [],
   "source": [
    "y = pd.DataFrame(data=[0, 1], columns=['y'])\n",
    "\n",
    "train = pd.DataFrame({'num1': [0, 1],\n",
    "                      'num2': [0, 2],\n",
    "                      'other': ['A', 'B']})\n",
    "\n",
    "enc = ColumnTransformer(\n",
    "    transformers=[\n",
    "        ('std', skp.StandardScaler(), ['num1', 'num2'])\n",
    "    ],\n",
    "    remainder='passthrough')\n",
    "enc.fit(train, y)\n",
    "test = pd.DataFrame({'num1': [0, 1, 1],\n",
    "                     'num2': [0, 2, 3],\n",
    "                     'other': ['A', 'B', 'C']})\n",
    "\n",
    "expected = pd.DataFrame({'std_num1': [0.0, 1.0, 1.0],\n",
    "                         'std_num2': [0.0, 2.0, 3.0],\n",
    "                         'other': ['A', 'B', 'C']})\n",
    "\n",
    "result = pd.DataFrame(enc.transform(test))\n",
    "result.columns = ['col1', 'col2', 'other']\n",
    "original = inverse_transform(result, enc)\n",
    "pd.testing.assert_frame_equal(original, expected)"
   ]
  },
  {
   "cell_type": "code",
   "execution_count": 6,
   "metadata": {},
   "outputs": [
    {
     "data": {
      "text/plain": [
       "std_num1    float64\n",
       "std_num2    float64\n",
       "other        object\n",
       "dtype: object"
      ]
     },
     "execution_count": 6,
     "metadata": {},
     "output_type": "execute_result"
    }
   ],
   "source": [
    "original.dtypes"
   ]
  },
  {
   "cell_type": "code",
   "execution_count": 7,
   "metadata": {},
   "outputs": [
    {
     "data": {
      "text/plain": [
       "std_num1    object\n",
       "std_num2    object\n",
       "other       object\n",
       "dtype: object"
      ]
     },
     "execution_count": 7,
     "metadata": {},
     "output_type": "execute_result"
    }
   ],
   "source": [
    "expected.dtypes"
   ]
  },
  {
   "cell_type": "code",
   "execution_count": 2,
   "metadata": {},
   "outputs": [
    {
     "ename": "AttributeError",
     "evalue": "Transformer onehot_ce (type OneHotEncoder) does not provide get_feature_names_out.",
     "output_type": "error",
     "traceback": [
      "\u001b[0;31m---------------------------------------------------------------------------\u001b[0m",
      "\u001b[0;31mAttributeError\u001b[0m                            Traceback (most recent call last)",
      "Input \u001b[0;32mIn [2]\u001b[0m, in \u001b[0;36m<cell line: 15>\u001b[0;34m()\u001b[0m\n\u001b[1;32m      8\u001b[0m test \u001b[38;5;241m=\u001b[39m pd\u001b[38;5;241m.\u001b[39mDataFrame({\u001b[38;5;124m'\u001b[39m\u001b[38;5;124mcity\u001b[39m\u001b[38;5;124m'\u001b[39m: [\u001b[38;5;124m'\u001b[39m\u001b[38;5;124mchicago\u001b[39m\u001b[38;5;124m'\u001b[39m, \u001b[38;5;124m'\u001b[39m\u001b[38;5;124mchicago\u001b[39m\u001b[38;5;124m'\u001b[39m, \u001b[38;5;124m'\u001b[39m\u001b[38;5;124mparis\u001b[39m\u001b[38;5;124m'\u001b[39m],\n\u001b[1;32m      9\u001b[0m                      \u001b[38;5;124m'\u001b[39m\u001b[38;5;124mstate\u001b[39m\u001b[38;5;124m'\u001b[39m: [\u001b[38;5;124m'\u001b[39m\u001b[38;5;124mUS\u001b[39m\u001b[38;5;124m'\u001b[39m, \u001b[38;5;124m'\u001b[39m\u001b[38;5;124mFR\u001b[39m\u001b[38;5;124m'\u001b[39m, \u001b[38;5;124m'\u001b[39m\u001b[38;5;124mFR\u001b[39m\u001b[38;5;124m'\u001b[39m],\n\u001b[1;32m     10\u001b[0m                      \u001b[38;5;124m'\u001b[39m\u001b[38;5;124mother\u001b[39m\u001b[38;5;124m'\u001b[39m: [\u001b[38;5;124m'\u001b[39m\u001b[38;5;124mA\u001b[39m\u001b[38;5;124m'\u001b[39m, \u001b[38;5;124m'\u001b[39m\u001b[38;5;124mB\u001b[39m\u001b[38;5;124m'\u001b[39m, \u001b[38;5;124m'\u001b[39m\u001b[38;5;124mC\u001b[39m\u001b[38;5;124m'\u001b[39m]},\n\u001b[1;32m     11\u001b[0m                     index\u001b[38;5;241m=\u001b[39m[\u001b[38;5;124m'\u001b[39m\u001b[38;5;124mindex1\u001b[39m\u001b[38;5;124m'\u001b[39m, \u001b[38;5;124m'\u001b[39m\u001b[38;5;124mindex2\u001b[39m\u001b[38;5;124m'\u001b[39m, \u001b[38;5;124m'\u001b[39m\u001b[38;5;124mindex3\u001b[39m\u001b[38;5;124m'\u001b[39m])\n\u001b[1;32m     13\u001b[0m test_encoded \u001b[38;5;241m=\u001b[39m pd\u001b[38;5;241m.\u001b[39mDataFrame(enc\u001b[38;5;241m.\u001b[39mfit_transform(test))\n\u001b[0;32m---> 15\u001b[0m mapping \u001b[38;5;241m=\u001b[39m \u001b[43mget_col_mapping_ct\u001b[49m\u001b[43m(\u001b[49m\u001b[43menc\u001b[49m\u001b[43m,\u001b[49m\u001b[43m \u001b[49m\u001b[43mtest_encoded\u001b[49m\u001b[43m)\u001b[49m\n\u001b[1;32m     16\u001b[0m expected_mapping \u001b[38;5;241m=\u001b[39m {\u001b[38;5;124m'\u001b[39m\u001b[38;5;124monehot_ce_city\u001b[39m\u001b[38;5;124m'\u001b[39m: [\u001b[38;5;241m0\u001b[39m, \u001b[38;5;241m1\u001b[39m], \u001b[38;5;124m'\u001b[39m\u001b[38;5;124monehot_ce_state\u001b[39m\u001b[38;5;124m'\u001b[39m: [\u001b[38;5;241m2\u001b[39m, \u001b[38;5;241m3\u001b[39m], \u001b[38;5;124m'\u001b[39m\u001b[38;5;124monehot_skp_city\u001b[39m\u001b[38;5;124m'\u001b[39m: [\u001b[38;5;241m4\u001b[39m, \u001b[38;5;241m5\u001b[39m],\n\u001b[1;32m     17\u001b[0m                     \u001b[38;5;124m'\u001b[39m\u001b[38;5;124monehot_skp_state\u001b[39m\u001b[38;5;124m'\u001b[39m: [\u001b[38;5;241m6\u001b[39m, \u001b[38;5;241m7\u001b[39m], \u001b[38;5;124m'\u001b[39m\u001b[38;5;124mother\u001b[39m\u001b[38;5;124m'\u001b[39m: [\u001b[38;5;241m8\u001b[39m]}\n\u001b[1;32m     19\u001b[0m \u001b[38;5;28mself\u001b[39m\u001b[38;5;241m.\u001b[39massertDictEqual(mapping, expected_mapping)\n",
      "File \u001b[0;32m~/shapash/shapash/utils/columntransformer_backend.py:461\u001b[0m, in \u001b[0;36mget_col_mapping_ct\u001b[0;34m(encoder, x_encoded)\u001b[0m\n\u001b[1;32m    458\u001b[0m         \u001b[38;5;28;01mraise\u001b[39;00m \u001b[38;5;167;01mNotImplementedError\u001b[39;00m(\u001b[38;5;124mf\u001b[39m\u001b[38;5;124m'\u001b[39m\u001b[38;5;124mEstimator not supported : \u001b[39m\u001b[38;5;132;01m{\u001b[39;00mestimator\u001b[38;5;132;01m}\u001b[39;00m\u001b[38;5;124m'\u001b[39m)\n\u001b[1;32m    460\u001b[0m \u001b[38;5;28;01melif\u001b[39;00m estimator \u001b[38;5;241m==\u001b[39m \u001b[38;5;124m'\u001b[39m\u001b[38;5;124mpassthrough\u001b[39m\u001b[38;5;124m'\u001b[39m:\n\u001b[0;32m--> 461\u001b[0m     features_out \u001b[38;5;241m=\u001b[39m \u001b[43mencoder\u001b[49m\u001b[38;5;241;43m.\u001b[39;49m\u001b[43mget_feature_names_out\u001b[49m\u001b[43m(\u001b[49m\u001b[43m)\u001b[49m\n\u001b[1;32m    462\u001b[0m     \u001b[38;5;28;01mfor\u001b[39;00m f_name \u001b[38;5;129;01min\u001b[39;00m features_out:\n\u001b[1;32m    463\u001b[0m         dict_col_mapping[f_name] \u001b[38;5;241m=\u001b[39m [x_encoded\u001b[38;5;241m.\u001b[39mcolumns\u001b[38;5;241m.\u001b[39mto_list()[idx_encoded]]\n",
      "File \u001b[0;32m/data_tech/users/users_envs/78257d/shapash_test_310/lib/python3.10/site-packages/sklearn/compose/_column_transformer.py:496\u001b[0m, in \u001b[0;36mColumnTransformer.get_feature_names_out\u001b[0;34m(self, input_features)\u001b[0m\n\u001b[1;32m    494\u001b[0m transformer_with_feature_names_out \u001b[38;5;241m=\u001b[39m []\n\u001b[1;32m    495\u001b[0m \u001b[38;5;28;01mfor\u001b[39;00m name, trans, column, _ \u001b[38;5;129;01min\u001b[39;00m \u001b[38;5;28mself\u001b[39m\u001b[38;5;241m.\u001b[39m_iter(fitted\u001b[38;5;241m=\u001b[39m\u001b[38;5;28;01mTrue\u001b[39;00m):\n\u001b[0;32m--> 496\u001b[0m     feature_names_out \u001b[38;5;241m=\u001b[39m \u001b[38;5;28;43mself\u001b[39;49m\u001b[38;5;241;43m.\u001b[39;49m\u001b[43m_get_feature_name_out_for_transformer\u001b[49m\u001b[43m(\u001b[49m\n\u001b[1;32m    497\u001b[0m \u001b[43m        \u001b[49m\u001b[43mname\u001b[49m\u001b[43m,\u001b[49m\u001b[43m \u001b[49m\u001b[43mtrans\u001b[49m\u001b[43m,\u001b[49m\u001b[43m \u001b[49m\u001b[43mcolumn\u001b[49m\u001b[43m,\u001b[49m\u001b[43m \u001b[49m\u001b[43minput_features\u001b[49m\n\u001b[1;32m    498\u001b[0m \u001b[43m    \u001b[49m\u001b[43m)\u001b[49m\n\u001b[1;32m    499\u001b[0m     \u001b[38;5;28;01mif\u001b[39;00m feature_names_out \u001b[38;5;129;01mis\u001b[39;00m \u001b[38;5;28;01mNone\u001b[39;00m:\n\u001b[1;32m    500\u001b[0m         \u001b[38;5;28;01mcontinue\u001b[39;00m\n",
      "File \u001b[0;32m/data_tech/users/users_envs/78257d/shapash_test_310/lib/python3.10/site-packages/sklearn/compose/_column_transformer.py:464\u001b[0m, in \u001b[0;36mColumnTransformer._get_feature_name_out_for_transformer\u001b[0;34m(self, name, trans, column, feature_names_in)\u001b[0m\n\u001b[1;32m    462\u001b[0m \u001b[38;5;66;03m# An actual transformer\u001b[39;00m\n\u001b[1;32m    463\u001b[0m \u001b[38;5;28;01mif\u001b[39;00m \u001b[38;5;129;01mnot\u001b[39;00m \u001b[38;5;28mhasattr\u001b[39m(trans, \u001b[38;5;124m\"\u001b[39m\u001b[38;5;124mget_feature_names_out\u001b[39m\u001b[38;5;124m\"\u001b[39m):\n\u001b[0;32m--> 464\u001b[0m     \u001b[38;5;28;01mraise\u001b[39;00m \u001b[38;5;167;01mAttributeError\u001b[39;00m(\n\u001b[1;32m    465\u001b[0m         \u001b[38;5;124mf\u001b[39m\u001b[38;5;124m\"\u001b[39m\u001b[38;5;124mTransformer \u001b[39m\u001b[38;5;132;01m{\u001b[39;00mname\u001b[38;5;132;01m}\u001b[39;00m\u001b[38;5;124m (type \u001b[39m\u001b[38;5;132;01m{\u001b[39;00m\u001b[38;5;28mtype\u001b[39m(trans)\u001b[38;5;241m.\u001b[39m\u001b[38;5;18m__name__\u001b[39m\u001b[38;5;132;01m}\u001b[39;00m\u001b[38;5;124m) does \u001b[39m\u001b[38;5;124m\"\u001b[39m\n\u001b[1;32m    466\u001b[0m         \u001b[38;5;124m\"\u001b[39m\u001b[38;5;124mnot provide get_feature_names_out.\u001b[39m\u001b[38;5;124m\"\u001b[39m\n\u001b[1;32m    467\u001b[0m     )\n\u001b[1;32m    468\u001b[0m \u001b[38;5;28;01mreturn\u001b[39;00m trans\u001b[38;5;241m.\u001b[39mget_feature_names_out(names)\n",
      "\u001b[0;31mAttributeError\u001b[0m: Transformer onehot_ce (type OneHotEncoder) does not provide get_feature_names_out."
     ]
    }
   ],
   "source": [
    "enc = ColumnTransformer(\n",
    "            transformers=[\n",
    "                ('onehot_ce', ce.OneHotEncoder(), ['city', 'state']),\n",
    "                ('onehot_skp', skp.OneHotEncoder(), ['city', 'state'])\n",
    "            ],\n",
    "            remainder='passthrough')\n",
    "\n",
    "test = pd.DataFrame({'city': ['chicago', 'chicago', 'paris'],\n",
    "                     'state': ['US', 'FR', 'FR'],\n",
    "                     'other': ['A', 'B', 'C']},\n",
    "                    index=['index1', 'index2', 'index3'])\n",
    "\n",
    "test_encoded = pd.DataFrame(enc.fit_transform(test))\n",
    "\n",
    "mapping = get_col_mapping_ct(enc, test_encoded)\n",
    "expected_mapping = {'onehot_ce_city': [0, 1], 'onehot_ce_state': [2, 3], 'onehot_skp_city': [4, 5],\n",
    "                    'onehot_skp_state': [6, 7], 'other': [8]}\n",
    "\n",
    "self.assertDictEqual(mapping, expected_mapping)"
   ]
  }
 ],
 "metadata": {
  "kernelspec": {
   "display_name": "shapash_test_310",
   "language": "python",
   "name": "shapash_test_310"
  },
  "language_info": {
   "codemirror_mode": {
    "name": "ipython",
    "version": 3
   },
   "file_extension": ".py",
   "mimetype": "text/x-python",
   "name": "python",
   "nbconvert_exporter": "python",
   "pygments_lexer": "ipython3",
   "version": "3.10.6"
  },
  "toc": {
   "base_numbering": 1,
   "nav_menu": {},
   "number_sections": true,
   "sideBar": true,
   "skip_h1_title": false,
   "title_cell": "Table of Contents",
   "title_sidebar": "Contents",
   "toc_cell": false,
   "toc_position": {},
   "toc_section_display": true,
   "toc_window_display": false
  }
 },
 "nbformat": 4,
 "nbformat_minor": 4
}
